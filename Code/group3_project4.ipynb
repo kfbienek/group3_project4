{
 "cells": [
  {
   "cell_type": "code",
   "execution_count": 2,
   "metadata": {},
   "outputs": [],
   "source": [
    "# Initial imports\n",
    "import pandas as pd\n",
    "from pathlib import Path\n",
    "from sklearn.ensemble import RandomForestClassifier, RandomForestRegressor\n",
    "from sklearn.preprocessing import StandardScaler\n",
    "from sklearn.model_selection import train_test_split\n",
    "from sklearn.metrics import confusion_matrix, accuracy_score, classification_report\n",
    "import joblib\n",
    "%matplotlib inline\n"
   ]
  },
  {
   "cell_type": "code",
   "execution_count": 3,
   "metadata": {},
   "outputs": [
    {
     "data": {
      "text/html": [
       "<div>\n",
       "<style scoped>\n",
       "    .dataframe tbody tr th:only-of-type {\n",
       "        vertical-align: middle;\n",
       "    }\n",
       "\n",
       "    .dataframe tbody tr th {\n",
       "        vertical-align: top;\n",
       "    }\n",
       "\n",
       "    .dataframe thead th {\n",
       "        text-align: right;\n",
       "    }\n",
       "</style>\n",
       "<table border=\"1\" class=\"dataframe\">\n",
       "  <thead>\n",
       "    <tr style=\"text-align: right;\">\n",
       "      <th></th>\n",
       "      <th>Country</th>\n",
       "      <th>City</th>\n",
       "      <th>AQI Value</th>\n",
       "      <th>AQI Category</th>\n",
       "      <th>CO AQI Value</th>\n",
       "      <th>CO AQI Category</th>\n",
       "      <th>Ozone AQI Value</th>\n",
       "      <th>Ozone AQI Category</th>\n",
       "      <th>NO2 AQI Value</th>\n",
       "      <th>NO2 AQI Category</th>\n",
       "      <th>PM2.5 AQI Value</th>\n",
       "      <th>PM2.5 AQI Category</th>\n",
       "    </tr>\n",
       "  </thead>\n",
       "  <tbody>\n",
       "    <tr>\n",
       "      <th>0</th>\n",
       "      <td>Russian Federation</td>\n",
       "      <td>Praskoveya</td>\n",
       "      <td>51</td>\n",
       "      <td>Moderate</td>\n",
       "      <td>1</td>\n",
       "      <td>Good</td>\n",
       "      <td>36</td>\n",
       "      <td>Good</td>\n",
       "      <td>0</td>\n",
       "      <td>Good</td>\n",
       "      <td>51</td>\n",
       "      <td>Moderate</td>\n",
       "    </tr>\n",
       "    <tr>\n",
       "      <th>1</th>\n",
       "      <td>Brazil</td>\n",
       "      <td>Presidente Dutra</td>\n",
       "      <td>41</td>\n",
       "      <td>Good</td>\n",
       "      <td>1</td>\n",
       "      <td>Good</td>\n",
       "      <td>5</td>\n",
       "      <td>Good</td>\n",
       "      <td>1</td>\n",
       "      <td>Good</td>\n",
       "      <td>41</td>\n",
       "      <td>Good</td>\n",
       "    </tr>\n",
       "    <tr>\n",
       "      <th>2</th>\n",
       "      <td>Italy</td>\n",
       "      <td>Priolo Gargallo</td>\n",
       "      <td>66</td>\n",
       "      <td>Moderate</td>\n",
       "      <td>1</td>\n",
       "      <td>Good</td>\n",
       "      <td>39</td>\n",
       "      <td>Good</td>\n",
       "      <td>2</td>\n",
       "      <td>Good</td>\n",
       "      <td>66</td>\n",
       "      <td>Moderate</td>\n",
       "    </tr>\n",
       "    <tr>\n",
       "      <th>3</th>\n",
       "      <td>Poland</td>\n",
       "      <td>Przasnysz</td>\n",
       "      <td>34</td>\n",
       "      <td>Good</td>\n",
       "      <td>1</td>\n",
       "      <td>Good</td>\n",
       "      <td>34</td>\n",
       "      <td>Good</td>\n",
       "      <td>0</td>\n",
       "      <td>Good</td>\n",
       "      <td>20</td>\n",
       "      <td>Good</td>\n",
       "    </tr>\n",
       "    <tr>\n",
       "      <th>4</th>\n",
       "      <td>France</td>\n",
       "      <td>Punaauia</td>\n",
       "      <td>22</td>\n",
       "      <td>Good</td>\n",
       "      <td>0</td>\n",
       "      <td>Good</td>\n",
       "      <td>22</td>\n",
       "      <td>Good</td>\n",
       "      <td>0</td>\n",
       "      <td>Good</td>\n",
       "      <td>6</td>\n",
       "      <td>Good</td>\n",
       "    </tr>\n",
       "  </tbody>\n",
       "</table>\n",
       "</div>"
      ],
      "text/plain": [
       "              Country              City  AQI Value AQI Category  CO AQI Value  \\\n",
       "0  Russian Federation        Praskoveya         51     Moderate             1   \n",
       "1              Brazil  Presidente Dutra         41         Good             1   \n",
       "2               Italy   Priolo Gargallo         66     Moderate             1   \n",
       "3              Poland         Przasnysz         34         Good             1   \n",
       "4              France          Punaauia         22         Good             0   \n",
       "\n",
       "  CO AQI Category  Ozone AQI Value Ozone AQI Category  NO2 AQI Value  \\\n",
       "0            Good               36               Good              0   \n",
       "1            Good                5               Good              1   \n",
       "2            Good               39               Good              2   \n",
       "3            Good               34               Good              0   \n",
       "4            Good               22               Good              0   \n",
       "\n",
       "  NO2 AQI Category  PM2.5 AQI Value PM2.5 AQI Category  \n",
       "0             Good               51           Moderate  \n",
       "1             Good               41               Good  \n",
       "2             Good               66           Moderate  \n",
       "3             Good               20               Good  \n",
       "4             Good                6               Good  "
      ]
     },
     "execution_count": 3,
     "metadata": {},
     "output_type": "execute_result"
    }
   ],
   "source": [
    "# Loading data\n",
    "df = pd.read_csv(\"../Resources/global_air_pollution_dataset.csv\")\n",
    "df.head()"
   ]
  },
  {
   "cell_type": "code",
   "execution_count": 4,
   "metadata": {},
   "outputs": [
    {
     "data": {
      "text/html": [
       "<div>\n",
       "<style scoped>\n",
       "    .dataframe tbody tr th:only-of-type {\n",
       "        vertical-align: middle;\n",
       "    }\n",
       "\n",
       "    .dataframe tbody tr th {\n",
       "        vertical-align: top;\n",
       "    }\n",
       "\n",
       "    .dataframe thead th {\n",
       "        text-align: right;\n",
       "    }\n",
       "</style>\n",
       "<table border=\"1\" class=\"dataframe\">\n",
       "  <thead>\n",
       "    <tr style=\"text-align: right;\">\n",
       "      <th></th>\n",
       "      <th>AQI Value</th>\n",
       "      <th>CO AQI Value</th>\n",
       "      <th>Ozone AQI Value</th>\n",
       "      <th>NO2 AQI Value</th>\n",
       "      <th>PM2.5 AQI Value</th>\n",
       "    </tr>\n",
       "  </thead>\n",
       "  <tbody>\n",
       "    <tr>\n",
       "      <th>AQI Value</th>\n",
       "      <td>1.000000</td>\n",
       "      <td>0.430602</td>\n",
       "      <td>0.405310</td>\n",
       "      <td>0.231758</td>\n",
       "      <td>0.984327</td>\n",
       "    </tr>\n",
       "    <tr>\n",
       "      <th>CO AQI Value</th>\n",
       "      <td>0.430602</td>\n",
       "      <td>1.000000</td>\n",
       "      <td>0.145724</td>\n",
       "      <td>0.488092</td>\n",
       "      <td>0.438557</td>\n",
       "    </tr>\n",
       "    <tr>\n",
       "      <th>Ozone AQI Value</th>\n",
       "      <td>0.405310</td>\n",
       "      <td>0.145724</td>\n",
       "      <td>1.000000</td>\n",
       "      <td>-0.181818</td>\n",
       "      <td>0.339887</td>\n",
       "    </tr>\n",
       "    <tr>\n",
       "      <th>NO2 AQI Value</th>\n",
       "      <td>0.231758</td>\n",
       "      <td>0.488092</td>\n",
       "      <td>-0.181818</td>\n",
       "      <td>1.000000</td>\n",
       "      <td>0.260127</td>\n",
       "    </tr>\n",
       "    <tr>\n",
       "      <th>PM2.5 AQI Value</th>\n",
       "      <td>0.984327</td>\n",
       "      <td>0.438557</td>\n",
       "      <td>0.339887</td>\n",
       "      <td>0.260127</td>\n",
       "      <td>1.000000</td>\n",
       "    </tr>\n",
       "  </tbody>\n",
       "</table>\n",
       "</div>"
      ],
      "text/plain": [
       "                 AQI Value  CO AQI Value  Ozone AQI Value  NO2 AQI Value  \\\n",
       "AQI Value         1.000000      0.430602         0.405310       0.231758   \n",
       "CO AQI Value      0.430602      1.000000         0.145724       0.488092   \n",
       "Ozone AQI Value   0.405310      0.145724         1.000000      -0.181818   \n",
       "NO2 AQI Value     0.231758      0.488092        -0.181818       1.000000   \n",
       "PM2.5 AQI Value   0.984327      0.438557         0.339887       0.260127   \n",
       "\n",
       "                 PM2.5 AQI Value  \n",
       "AQI Value               0.984327  \n",
       "CO AQI Value            0.438557  \n",
       "Ozone AQI Value         0.339887  \n",
       "NO2 AQI Value           0.260127  \n",
       "PM2.5 AQI Value         1.000000  "
      ]
     },
     "execution_count": 4,
     "metadata": {},
     "output_type": "execute_result"
    }
   ],
   "source": [
    "#Creating correlation matrix\n",
    "correlation_matrix = df.corr()\n",
    "correlation_matrix"
   ]
  },
  {
   "cell_type": "code",
   "execution_count": 5,
   "metadata": {},
   "outputs": [
    {
     "data": {
      "text/html": [
       "<div>\n",
       "<style scoped>\n",
       "    .dataframe tbody tr th:only-of-type {\n",
       "        vertical-align: middle;\n",
       "    }\n",
       "\n",
       "    .dataframe tbody tr th {\n",
       "        vertical-align: top;\n",
       "    }\n",
       "\n",
       "    .dataframe thead th {\n",
       "        text-align: right;\n",
       "    }\n",
       "</style>\n",
       "<table border=\"1\" class=\"dataframe\">\n",
       "  <thead>\n",
       "    <tr style=\"text-align: right;\">\n",
       "      <th></th>\n",
       "      <th>CO AQI Value</th>\n",
       "      <th>Ozone AQI Value</th>\n",
       "      <th>NO2 AQI Value</th>\n",
       "      <th>PM2.5 AQI Value</th>\n",
       "    </tr>\n",
       "  </thead>\n",
       "  <tbody>\n",
       "    <tr>\n",
       "      <th>0</th>\n",
       "      <td>1</td>\n",
       "      <td>36</td>\n",
       "      <td>0</td>\n",
       "      <td>51</td>\n",
       "    </tr>\n",
       "    <tr>\n",
       "      <th>1</th>\n",
       "      <td>1</td>\n",
       "      <td>5</td>\n",
       "      <td>1</td>\n",
       "      <td>41</td>\n",
       "    </tr>\n",
       "    <tr>\n",
       "      <th>2</th>\n",
       "      <td>1</td>\n",
       "      <td>39</td>\n",
       "      <td>2</td>\n",
       "      <td>66</td>\n",
       "    </tr>\n",
       "    <tr>\n",
       "      <th>3</th>\n",
       "      <td>1</td>\n",
       "      <td>34</td>\n",
       "      <td>0</td>\n",
       "      <td>20</td>\n",
       "    </tr>\n",
       "    <tr>\n",
       "      <th>4</th>\n",
       "      <td>0</td>\n",
       "      <td>22</td>\n",
       "      <td>0</td>\n",
       "      <td>6</td>\n",
       "    </tr>\n",
       "  </tbody>\n",
       "</table>\n",
       "</div>"
      ],
      "text/plain": [
       "   CO AQI Value  Ozone AQI Value  NO2 AQI Value  PM2.5 AQI Value\n",
       "0             1               36              0               51\n",
       "1             1                5              1               41\n",
       "2             1               39              2               66\n",
       "3             1               34              0               20\n",
       "4             0               22              0                6"
      ]
     },
     "execution_count": 5,
     "metadata": {},
     "output_type": "execute_result"
    }
   ],
   "source": [
    "# Define features set and remove unnecessary columns\n",
    "dfcopy = df.copy()\n",
    "columns_to_remove = [\"AQI Value\", \"Country\", \"City\", \"AQI Category\", \"CO AQI Category\",\n",
    "                     \"Ozone AQI Category\", \"NO2 AQI Category\", \"PM2.5 AQI Category\"]           \n",
    "X = dfcopy.drop(columns=columns_to_remove)\n",
    "X.head()"
   ]
  },
  {
   "cell_type": "code",
   "execution_count": 6,
   "metadata": {},
   "outputs": [
    {
     "data": {
      "text/plain": [
       "array(['Moderate', 'Good', 'Moderate', 'Good', 'Good'], dtype=object)"
      ]
     },
     "execution_count": 6,
     "metadata": {},
     "output_type": "execute_result"
    }
   ],
   "source": [
    "# Define target vector\n",
    "y = df[\"AQI Category\"].ravel()\n",
    "y[:5]"
   ]
  },
  {
   "cell_type": "code",
   "execution_count": 7,
   "metadata": {},
   "outputs": [],
   "source": [
    "# Splitting into Train and Test sets\n",
    "X_train, X_test, y_train, y_test = train_test_split(X, y, random_state=78)"
   ]
  },
  {
   "cell_type": "code",
   "execution_count": 8,
   "metadata": {},
   "outputs": [],
   "source": [
    "# Creating StandardScaler instance\n",
    "scaler = StandardScaler()"
   ]
  },
  {
   "cell_type": "code",
   "execution_count": 9,
   "metadata": {},
   "outputs": [],
   "source": [
    "# Fitting Standard Scaller\n",
    "X_scaler = scaler.fit(X_train)"
   ]
  },
  {
   "cell_type": "code",
   "execution_count": 10,
   "metadata": {},
   "outputs": [],
   "source": [
    "# Scaling data\n",
    "X_train_scaled = X_scaler.transform(X_train)\n",
    "X_test_scaled = X_scaler.transform(X_test)"
   ]
  },
  {
   "cell_type": "code",
   "execution_count": 11,
   "metadata": {},
   "outputs": [],
   "source": [
    "# Create a random forest classifier\n",
    "rf_model = RandomForestClassifier(n_estimators=500, random_state=78)"
   ]
  },
  {
   "cell_type": "code",
   "execution_count": 12,
   "metadata": {},
   "outputs": [],
   "source": [
    "# Fitting the model\n",
    "rf_model = rf_model.fit(X_train_scaled, y_train)"
   ]
  },
  {
   "cell_type": "code",
   "execution_count": 13,
   "metadata": {},
   "outputs": [],
   "source": [
    "# Making predictions using the testing data\n",
    "predictions = rf_model.predict(X_test_scaled)"
   ]
  },
  {
   "cell_type": "code",
   "execution_count": 14,
   "metadata": {},
   "outputs": [
    {
     "data": {
      "text/plain": [
       "array(['Moderate', 'Good', 'Unhealthy for Sensitive Groups', 'Unhealthy',\n",
       "       'Very Unhealthy', 'Hazardous'], dtype=object)"
      ]
     },
     "execution_count": 14,
     "metadata": {},
     "output_type": "execute_result"
    }
   ],
   "source": [
    "distinct_values = df[\"AQI Category\"].unique()\n",
    "distinct_values"
   ]
  },
  {
   "cell_type": "code",
   "execution_count": 15,
   "metadata": {},
   "outputs": [
    {
     "data": {
      "text/plain": [
       "0.9996590521650187"
      ]
     },
     "execution_count": 15,
     "metadata": {},
     "output_type": "execute_result"
    }
   ],
   "source": [
    "# Calculating the confusion matrix\n",
    "cm = confusion_matrix(y_test, predictions)\n",
    "cm_df = pd.DataFrame(\n",
    "    cm, index=[\"Actual Good\", \"Actual Moderate\", \"Actual Unhealthy For Sensitive Groups\",\"Actual Unhealthy\", \"Actual Very Unhealthy\", \"Actual Hazardous\"], columns=[\"Predicted Good\", \"Predicted Moderate\", \"Predicted Unhealthy For Sensitive Groups\", \"Predicted Unhealthy\", \"Predicted Very Unhealthy\", \"Predicted Hazardous\"]\n",
    ")\n",
    "\n",
    "# Calculating the accuracy score\n",
    "acc_score = accuracy_score(y_test, predictions)\n",
    "acc_score"
   ]
  },
  {
   "cell_type": "code",
   "execution_count": 16,
   "metadata": {},
   "outputs": [
    {
     "name": "stdout",
     "output_type": "stream",
     "text": [
      "Confusion Matrix\n"
     ]
    },
    {
     "data": {
      "text/html": [
       "<div>\n",
       "<style scoped>\n",
       "    .dataframe tbody tr th:only-of-type {\n",
       "        vertical-align: middle;\n",
       "    }\n",
       "\n",
       "    .dataframe tbody tr th {\n",
       "        vertical-align: top;\n",
       "    }\n",
       "\n",
       "    .dataframe thead th {\n",
       "        text-align: right;\n",
       "    }\n",
       "</style>\n",
       "<table border=\"1\" class=\"dataframe\">\n",
       "  <thead>\n",
       "    <tr style=\"text-align: right;\">\n",
       "      <th></th>\n",
       "      <th>Predicted Good</th>\n",
       "      <th>Predicted Moderate</th>\n",
       "      <th>Predicted Unhealthy For Sensitive Groups</th>\n",
       "      <th>Predicted Unhealthy</th>\n",
       "      <th>Predicted Very Unhealthy</th>\n",
       "      <th>Predicted Hazardous</th>\n",
       "    </tr>\n",
       "  </thead>\n",
       "  <tbody>\n",
       "    <tr>\n",
       "      <th>Actual Good</th>\n",
       "      <td>2488</td>\n",
       "      <td>0</td>\n",
       "      <td>0</td>\n",
       "      <td>0</td>\n",
       "      <td>0</td>\n",
       "      <td>0</td>\n",
       "    </tr>\n",
       "    <tr>\n",
       "      <th>Actual Moderate</th>\n",
       "      <td>0</td>\n",
       "      <td>53</td>\n",
       "      <td>0</td>\n",
       "      <td>0</td>\n",
       "      <td>0</td>\n",
       "      <td>1</td>\n",
       "    </tr>\n",
       "    <tr>\n",
       "      <th>Actual Unhealthy For Sensitive Groups</th>\n",
       "      <td>0</td>\n",
       "      <td>0</td>\n",
       "      <td>2300</td>\n",
       "      <td>0</td>\n",
       "      <td>0</td>\n",
       "      <td>0</td>\n",
       "    </tr>\n",
       "    <tr>\n",
       "      <th>Actual Unhealthy</th>\n",
       "      <td>0</td>\n",
       "      <td>0</td>\n",
       "      <td>0</td>\n",
       "      <td>576</td>\n",
       "      <td>0</td>\n",
       "      <td>0</td>\n",
       "    </tr>\n",
       "    <tr>\n",
       "      <th>Actual Very Unhealthy</th>\n",
       "      <td>0</td>\n",
       "      <td>0</td>\n",
       "      <td>0</td>\n",
       "      <td>0</td>\n",
       "      <td>385</td>\n",
       "      <td>0</td>\n",
       "    </tr>\n",
       "    <tr>\n",
       "      <th>Actual Hazardous</th>\n",
       "      <td>0</td>\n",
       "      <td>1</td>\n",
       "      <td>0</td>\n",
       "      <td>0</td>\n",
       "      <td>0</td>\n",
       "      <td>62</td>\n",
       "    </tr>\n",
       "  </tbody>\n",
       "</table>\n",
       "</div>"
      ],
      "text/plain": [
       "                                       Predicted Good  Predicted Moderate  \\\n",
       "Actual Good                                      2488                   0   \n",
       "Actual Moderate                                     0                  53   \n",
       "Actual Unhealthy For Sensitive Groups               0                   0   \n",
       "Actual Unhealthy                                    0                   0   \n",
       "Actual Very Unhealthy                               0                   0   \n",
       "Actual Hazardous                                    0                   1   \n",
       "\n",
       "                                       Predicted Unhealthy For Sensitive Groups  \\\n",
       "Actual Good                                                                   0   \n",
       "Actual Moderate                                                               0   \n",
       "Actual Unhealthy For Sensitive Groups                                      2300   \n",
       "Actual Unhealthy                                                              0   \n",
       "Actual Very Unhealthy                                                         0   \n",
       "Actual Hazardous                                                              0   \n",
       "\n",
       "                                       Predicted Unhealthy  \\\n",
       "Actual Good                                              0   \n",
       "Actual Moderate                                          0   \n",
       "Actual Unhealthy For Sensitive Groups                    0   \n",
       "Actual Unhealthy                                       576   \n",
       "Actual Very Unhealthy                                    0   \n",
       "Actual Hazardous                                         0   \n",
       "\n",
       "                                       Predicted Very Unhealthy  \\\n",
       "Actual Good                                                   0   \n",
       "Actual Moderate                                               0   \n",
       "Actual Unhealthy For Sensitive Groups                         0   \n",
       "Actual Unhealthy                                              0   \n",
       "Actual Very Unhealthy                                       385   \n",
       "Actual Hazardous                                              0   \n",
       "\n",
       "                                       Predicted Hazardous  \n",
       "Actual Good                                              0  \n",
       "Actual Moderate                                          1  \n",
       "Actual Unhealthy For Sensitive Groups                    0  \n",
       "Actual Unhealthy                                         0  \n",
       "Actual Very Unhealthy                                    0  \n",
       "Actual Hazardous                                        62  "
      ]
     },
     "metadata": {},
     "output_type": "display_data"
    },
    {
     "name": "stdout",
     "output_type": "stream",
     "text": [
      "Accuracy Score : 0.9996590521650187\n",
      "Classification Report\n",
      "                                precision    recall  f1-score   support\n",
      "\n",
      "                          Good       1.00      1.00      1.00      2488\n",
      "                     Hazardous       0.98      0.98      0.98        54\n",
      "                      Moderate       1.00      1.00      1.00      2300\n",
      "                     Unhealthy       1.00      1.00      1.00       576\n",
      "Unhealthy for Sensitive Groups       1.00      1.00      1.00       385\n",
      "                Very Unhealthy       0.98      0.98      0.98        63\n",
      "\n",
      "                      accuracy                           1.00      5866\n",
      "                     macro avg       0.99      0.99      0.99      5866\n",
      "                  weighted avg       1.00      1.00      1.00      5866\n",
      "\n"
     ]
    }
   ],
   "source": [
    "# Displaying results\n",
    "print(\"Confusion Matrix\")\n",
    "display(cm_df)\n",
    "print(f\"Accuracy Score : {acc_score}\")\n",
    "print(\"Classification Report\")\n",
    "print(classification_report(y_test, predictions))"
   ]
  },
  {
   "cell_type": "code",
   "execution_count": 17,
   "metadata": {},
   "outputs": [
    {
     "data": {
      "text/plain": [
       "[(0.8467633796071337, 'PM2.5 AQI Value'),\n",
       " (0.07978466120214603, 'Ozone AQI Value'),\n",
       " (0.066161672164175, 'CO AQI Value'),\n",
       " (0.007290287026545319, 'NO2 AQI Value')]"
      ]
     },
     "execution_count": 17,
     "metadata": {},
     "output_type": "execute_result"
    }
   ],
   "source": [
    "# Random Forests in sklearn will automatically calculate feature importance\n",
    "importances = rf_model.feature_importances_\n",
    "# We can sort the features by their importance\n",
    "sorted(zip(rf_model.feature_importances_, X.columns), reverse=True)"
   ]
  },
  {
   "cell_type": "code",
   "execution_count": 18,
   "metadata": {},
   "outputs": [
    {
     "data": {
      "text/plain": [
       "<AxesSubplot:title={'center':'Features Importances'}, ylabel='1'>"
      ]
     },
     "execution_count": 18,
     "metadata": {},
     "output_type": "execute_result"
    },
    {
     "data": {
      "image/png": "[encoded data removed]",
      "text/plain": [
       "<Figure size 432x288 with 1 Axes>"
      ]
     },
     "metadata": {
      "needs_background": "light"
     },
     "output_type": "display_data"
    }
   ],
   "source": [
    "# Visualize the features by importance\n",
    "importances_df = pd.DataFrame(sorted(zip(rf_model.feature_importances_, X.columns), reverse=True))\n",
    "importances_df.set_index(importances_df[1], inplace=True)\n",
    "importances_df.drop(columns=1, inplace=True)\n",
    "importances_df.rename(columns={0: 'Feature Importances'}, inplace=True)\n",
    "importances_sorted = importances_df.sort_values(by='Feature Importances')\n",
    "importances_sorted.plot(kind='barh', color='lightgreen', title= 'Features Importances', legend=False)"
   ]
  },
  {
   "cell_type": "code",
   "execution_count": 19,
   "metadata": {},
   "outputs": [
    {
     "data": {
      "text/plain": [
       "[Text(0.4583956530040733, 0.96875, 'X[0] <= 0.09\\ngini = 0.652\\nsamples = 11110\\nvalue = [7457, 119, 6924, 1665, 1224, 208]'),\n",
       " Text(0.09385342413441955, 0.90625, 'X[3] <= -0.328\\ngini = 0.567\\nsamples = 8552\\nvalue = [7362, 82, 5026, 548, 504, 72]'),\n",
       " Text(0.016293279022403257, 0.84375, 'X[0] <= -0.541\\ngini = 0.045\\nsamples = 4739\\nvalue = [7362, 0, 170, 0, 2, 0]'),\n",
       " Text(0.008146639511201629, 0.78125, 'gini = 0.0\\nsamples = 1199\\nvalue = [1888, 0, 0, 0, 0, 0]'),\n",
       " Text(0.024439918533604887, 0.78125, 'X[1] <= 0.552\\ngini = 0.059\\nsamples = 3540\\nvalue = [5474, 0, 170, 0, 2, 0]'),\n",
       " Text(0.016293279022403257, 0.71875, 'gini = 0.0\\nsamples = 3435\\nvalue = [5474, 0, 0, 0, 0, 0]'),\n",
       " Text(0.032586558044806514, 0.71875, 'X[1] <= 2.726\\ngini = 0.023\\nsamples = 105\\nvalue = [0, 0, 170, 0, 2, 0]'),\n",
       " Text(0.024439918533604887, 0.65625, 'gini = 0.0\\nsamples = 104\\nvalue = [0, 0, 170, 0, 0, 0]'),\n",
       " Text(0.04073319755600815, 0.65625, 'gini = 0.0\\nsamples = 1\\nvalue = [0, 0, 0, 0, 2, 0]'),\n",
       " Text(0.17141356924643583, 0.84375, 'X[3] <= 0.572\\ngini = 0.343\\nsamples = 3813\\nvalue = [0, 82, 4856, 548, 502, 72]'),\n",
       " Text(0.0814663951120163, 0.78125, 'X[3] <= 0.113\\ngini = 0.002\\nsamples = 3050\\nvalue = [0, 0, 4856, 0, 5, 0]'),\n",
       " Text(0.06517311608961303, 0.71875, 'X[1] <= 2.924\\ngini = 0.0\\nsamples = 2524\\nvalue = [0, 0, 4033, 0, 1, 0]'),\n",
       " Text(0.05702647657841141, 0.65625, 'gini = 0.0\\nsamples = 2523\\nvalue = [0, 0, 4033, 0, 0, 0]'),\n",
       " Text(0.07331975560081466, 0.65625, 'gini = 0.0\\nsamples = 1\\nvalue = [0, 0, 0, 0, 1, 0]'),\n",
       " Text(0.09775967413441955, 0.71875, 'X[1] <= 2.528\\ngini = 0.01\\nsamples = 526\\nvalue = [0, 0, 823, 0, 4, 0]'),\n",
       " Text(0.08961303462321792, 0.65625, 'gini = 0.0\\nsamples = 523\\nvalue = [0, 0, 823, 0, 0, 0]'),\n",
       " Text(0.10590631364562118, 0.65625, 'gini = 0.0\\nsamples = 3\\nvalue = [0, 0, 0, 0, 4, 0]'),\n",
       " Text(0.2613607433808554, 0.78125, 'X[1] <= 0.014\\ngini = 0.611\\nsamples = 763\\nvalue = [0, 82, 0, 548, 497, 72]'),\n",
       " Text(0.13034623217922606, 0.71875, 'X[3] <= 1.49\\ngini = 0.513\\nsamples = 321\\nvalue = [0, 3, 0, 201, 301, 14]'),\n",
       " Text(0.12219959266802444, 0.65625, 'gini = 0.0\\nsamples = 179\\nvalue = [0, 0, 0, 0, 301, 0]'),\n",
       " Text(0.1384928716904277, 0.65625, 'X[3] <= 2.38\\ngini = 0.146\\nsamples = 142\\nvalue = [0, 3, 0, 201, 0, 14]'),\n",
       " Text(0.13034623217922606, 0.59375, 'gini = 0.0\\nsamples = 130\\nvalue = [0, 0, 0, 201, 0, 0]'),\n",
       " Text(0.14663951120162932, 0.59375, 'X[1] <= -0.166\\ngini = 0.291\\nsamples = 12\\nvalue = [0, 3, 0, 0, 0, 14]'),\n",
       " Text(0.1384928716904277, 0.53125, 'gini = 0.0\\nsamples = 4\\nvalue = [0, 0, 0, 0, 0, 6]'),\n",
       " Text(0.15478615071283094, 0.53125, 'X[1] <= -0.022\\ngini = 0.397\\nsamples = 8\\nvalue = [0, 3, 0, 0, 0, 8]'),\n",
       " Text(0.14663951120162932, 0.46875, 'X[3] <= 5.383\\ngini = 0.5\\nsamples = 5\\nvalue = [0, 3, 0, 0, 0, 3]'),\n",
       " Text(0.1384928716904277, 0.40625, 'gini = 0.0\\nsamples = 3\\nvalue = [0, 0, 0, 0, 0, 3]'),\n",
       " Text(0.15478615071283094, 0.40625, 'gini = 0.0\\nsamples = 2\\nvalue = [0, 3, 0, 0, 0, 0]'),\n",
       " Text(0.1629327902240326, 0.46875, 'gini = 0.0\\nsamples = 3\\nvalue = [0, 0, 0, 0, 0, 5]'),\n",
       " Text(0.39237525458248473, 0.71875, 'X[2] <= -0.487\\ngini = 0.636\\nsamples = 442\\nvalue = [0, 79, 0, 347, 196, 58]'),\n",
       " Text(0.28984215885947046, 0.65625, 'X[1] <= 0.337\\ngini = 0.599\\nsamples = 310\\nvalue = [0, 32, 0, 260, 146, 40]'),\n",
       " Text(0.20366598778004075, 0.59375, 'X[1] <= 0.05\\ngini = 0.561\\nsamples = 198\\nvalue = [0, 21, 0, 177, 96, 12]'),\n",
       " Text(0.18737270875763748, 0.53125, 'X[0] <= -0.541\\ngini = 0.37\\nsamples = 21\\nvalue = [0, 1, 0, 21, 4, 1]'),\n",
       " Text(0.17922606924643583, 0.46875, 'gini = 0.0\\nsamples = 3\\nvalue = [0, 0, 0, 5, 0, 0]'),\n",
       " Text(0.1955193482688391, 0.46875, 'X[3] <= 1.352\\ngini = 0.434\\nsamples = 18\\nvalue = [0, 1, 0, 16, 4, 1]'),\n",
       " Text(0.18737270875763748, 0.40625, 'gini = 0.0\\nsamples = 4\\nvalue = [0, 0, 0, 0, 4, 0]'),\n",
       " Text(0.20366598778004075, 0.40625, 'X[3] <= 2.601\\ngini = 0.204\\nsamples = 14\\nvalue = [0, 1, 0, 16, 0, 1]'),\n",
       " Text(0.1955193482688391, 0.34375, 'gini = 0.0\\nsamples = 12\\nvalue = [0, 0, 0, 16, 0, 0]'),\n",
       " Text(0.21181262729124237, 0.34375, 'X[3] <= 4.465\\ngini = 0.5\\nsamples = 2\\nvalue = [0, 1, 0, 0, 0, 1]'),\n",
       " Text(0.20366598778004075, 0.28125, 'gini = 0.0\\nsamples = 1\\nvalue = [0, 0, 0, 0, 0, 1]'),\n",
       " Text(0.219959266802444, 0.28125, 'gini = 0.0\\nsamples = 1\\nvalue = [0, 1, 0, 0, 0, 0]'),\n",
       " Text(0.219959266802444, 0.53125, 'X[3] <= 1.49\\ngini = 0.572\\nsamples = 177\\nvalue = [0, 20, 0, 156, 92, 11]'),\n",
       " Text(0.21181262729124237, 0.46875, 'gini = 0.0\\nsamples = 58\\nvalue = [0, 0, 0, 0, 92, 0]'),\n",
       " Text(0.22810590631364563, 0.46875, 'X[3] <= 2.417\\ngini = 0.289\\nsamples = 119\\nvalue = [0, 20, 0, 156, 0, 11]'),\n",
       " Text(0.219959266802444, 0.40625, 'gini = 0.0\\nsamples = 95\\nvalue = [0, 0, 0, 156, 0, 0]'),\n",
       " Text(0.23625254582484725, 0.40625, 'X[1] <= 0.121\\ngini = 0.458\\nsamples = 24\\nvalue = [0, 20, 0, 0, 0, 11]'),\n",
       " Text(0.22810590631364563, 0.34375, 'gini = 0.0\\nsamples = 6\\nvalue = [0, 8, 0, 0, 0, 0]'),\n",
       " Text(0.24439918533604887, 0.34375, 'X[3] <= 4.162\\ngini = 0.499\\nsamples = 18\\nvalue = [0, 12, 0, 0, 0, 11]'),\n",
       " Text(0.23625254582484725, 0.28125, 'gini = 0.0\\nsamples = 10\\nvalue = [0, 0, 0, 0, 0, 11]'),\n",
       " Text(0.2525458248472505, 0.28125, 'gini = 0.0\\nsamples = 8\\nvalue = [0, 12, 0, 0, 0, 0]'),\n",
       " Text(0.3760183299389002, 0.59375, 'X[1] <= 1.217\\ngini = 0.652\\nsamples = 112\\nvalue = [0, 11, 0, 83, 50, 28]'),\n",
       " Text(0.3121181262729124, 0.53125, 'X[3] <= 1.471\\ngini = 0.662\\nsamples = 92\\nvalue = [0, 11, 0, 68, 33, 28]'),\n",
       " Text(0.3039714867617108, 0.46875, 'gini = 0.0\\nsamples = 23\\nvalue = [0, 0, 0, 0, 33, 0]'),\n",
       " Text(0.32026476578411406, 0.46875, 'X[1] <= 0.517\\ngini = 0.517\\nsamples = 69\\nvalue = [0, 11, 0, 68, 0, 28]'),\n",
       " Text(0.28411405295315684, 0.40625, 'X[3] <= 2.436\\ngini = 0.571\\nsamples = 52\\nvalue = [0, 11, 0, 47, 0, 25]'),\n",
       " Text(0.2759674134419552, 0.34375, 'gini = 0.0\\nsamples = 31\\nvalue = [0, 0, 0, 47, 0, 0]'),\n",
       " Text(0.29226069246435843, 0.34375, 'X[1] <= 0.373\\ngini = 0.424\\nsamples = 21\\nvalue = [0, 11, 0, 0, 0, 25]'),\n",
       " Text(0.26883910386965376, 0.28125, 'X[3] <= 3.987\\ngini = 0.5\\nsamples = 4\\nvalue = [0, 2, 0, 0, 0, 2]'),\n",
       " Text(0.2606924643584521, 0.21875, 'gini = 0.0\\nsamples = 2\\nvalue = [0, 0, 0, 0, 0, 2]'),\n",
       " Text(0.2769857433808554, 0.21875, 'gini = 0.0\\nsamples = 2\\nvalue = [0, 2, 0, 0, 0, 0]'),\n",
       " Text(0.31568228105906315, 0.28125, 'X[1] <= 0.409\\ngini = 0.404\\nsamples = 17\\nvalue = [0, 9, 0, 0, 0, 23]'),\n",
       " Text(0.29327902240325865, 0.21875, 'X[3] <= 3.831\\ngini = 0.26\\nsamples = 6\\nvalue = [0, 2, 0, 0, 0, 11]'),\n",
       " Text(0.285132382892057, 0.15625, 'gini = 0.0\\nsamples = 5\\nvalue = [0, 0, 0, 0, 0, 11]'),\n",
       " Text(0.3014256619144603, 0.15625, 'gini = 0.0\\nsamples = 1\\nvalue = [0, 2, 0, 0, 0, 0]'),\n",
       " Text(0.3380855397148676, 0.21875, 'X[1] <= 0.481\\ngini = 0.465\\nsamples = 11\\nvalue = [0, 7, 0, 0, 0, 12]'),\n",
       " Text(0.31771894093686354, 0.15625, 'X[1] <= 0.445\\ngini = 0.459\\nsamples = 8\\nvalue = [0, 5, 0, 0, 0, 9]'),\n",
       " Text(0.3014256619144603, 0.09375, 'X[3] <= 5.181\\ngini = 0.469\\nsamples = 4\\nvalue = [0, 3, 0, 0, 0, 5]'),\n",
       " Text(0.29327902240325865, 0.03125, 'gini = 0.0\\nsamples = 3\\nvalue = [0, 0, 0, 0, 0, 5]'),\n",
       " Text(0.3095723014256619, 0.03125, 'gini = 0.0\\nsamples = 1\\nvalue = [0, 3, 0, 0, 0, 0]'),\n",
       " Text(0.3340122199592668, 0.09375, 'X[3] <= 3.216\\ngini = 0.444\\nsamples = 4\\nvalue = [0, 2, 0, 0, 0, 4]'),\n",
       " Text(0.3258655804480652, 0.03125, 'gini = 0.0\\nsamples = 3\\nvalue = [0, 0, 0, 0, 0, 4]'),\n",
       " Text(0.3421588594704684, 0.03125, 'gini = 0.0\\nsamples = 1\\nvalue = [0, 2, 0, 0, 0, 0]'),\n",
       " Text(0.35845213849287166, 0.15625, 'X[3] <= 4.299\\ngini = 0.48\\nsamples = 3\\nvalue = [0, 2, 0, 0, 0, 3]'),\n",
       " Text(0.35030549898167007, 0.09375, 'gini = 0.0\\nsamples = 2\\nvalue = [0, 0, 0, 0, 0, 3]'),\n",
       " Text(0.3665987780040733, 0.09375, 'gini = 0.0\\nsamples = 1\\nvalue = [0, 2, 0, 0, 0, 0]'),\n",
       " Text(0.3564154786150713, 0.40625, 'X[1] <= 1.127\\ngini = 0.219\\nsamples = 17\\nvalue = [0, 0, 0, 21, 0, 3]'),\n",
       " Text(0.34012219959266804, 0.34375, 'X[3] <= 2.61\\ngini = 0.165\\nsamples = 15\\nvalue = [0, 0, 0, 20, 0, 2]'),\n",
       " Text(0.3319755600814664, 0.28125, 'gini = 0.0\\nsamples = 13\\nvalue = [0, 0, 0, 20, 0, 0]'),\n",
       " Text(0.34826883910386963, 0.28125, 'gini = 0.0\\nsamples = 2\\nvalue = [0, 0, 0, 0, 0, 2]'),\n",
       " Text(0.3727087576374745, 0.34375, 'X[3] <= 2.206\\ngini = 0.5\\nsamples = 2\\nvalue = [0, 0, 0, 1, 0, 1]'),\n",
       " Text(0.3645621181262729, 0.28125, 'gini = 0.0\\nsamples = 1\\nvalue = [0, 0, 0, 1, 0, 0]'),\n",
       " Text(0.38085539714867617, 0.28125, 'gini = 0.0\\nsamples = 1\\nvalue = [0, 0, 0, 0, 0, 1]'),\n",
       " Text(0.439918533604888, 0.53125, 'X[1] <= 1.702\\ngini = 0.498\\nsamples = 20\\nvalue = [0, 0, 0, 15, 17, 0]'),\n",
       " Text(0.4175152749490835, 0.46875, 'X[1] <= 1.307\\ngini = 0.42\\nsamples = 11\\nvalue = [0, 0, 0, 6, 14, 0]'),\n",
       " Text(0.3971486761710794, 0.40625, 'X[3] <= 1.435\\ngini = 0.49\\nsamples = 4\\nvalue = [0, 0, 0, 4, 3, 0]'),\n",
       " Text(0.3890020366598778, 0.34375, 'gini = 0.0\\nsamples = 1\\nvalue = [0, 0, 0, 0, 3, 0]'),\n",
       " Text(0.40529531568228105, 0.34375, 'gini = 0.0\\nsamples = 3\\nvalue = [0, 0, 0, 4, 0, 0]'),\n",
       " Text(0.4378818737270876, 0.40625, 'X[1] <= 1.576\\ngini = 0.26\\nsamples = 7\\nvalue = [0, 0, 0, 2, 11, 0]'),\n",
       " Text(0.4215885947046843, 0.34375, 'X[3] <= 1.38\\ngini = 0.165\\nsamples = 5\\nvalue = [0, 0, 0, 1, 10, 0]'),\n",
       " Text(0.4134419551934827, 0.28125, 'gini = 0.0\\nsamples = 4\\nvalue = [0, 0, 0, 0, 10, 0]'),\n",
       " Text(0.42973523421588594, 0.28125, 'gini = 0.0\\nsamples = 1\\nvalue = [0, 0, 0, 1, 0, 0]'),\n",
       " Text(0.45417515274949083, 0.34375, 'X[3] <= 1.123\\ngini = 0.5\\nsamples = 2\\nvalue = [0, 0, 0, 1, 1, 0]'),\n",
       " Text(0.4460285132382892, 0.28125, 'gini = 0.0\\nsamples = 1\\nvalue = [0, 0, 0, 0, 1, 0]'),\n",
       " Text(0.4623217922606925, 0.28125, 'gini = 0.0\\nsamples = 1\\nvalue = [0, 0, 0, 1, 0, 0]'),\n",
       " Text(0.4623217922606925, 0.46875, 'X[3] <= 1.168\\ngini = 0.375\\nsamples = 9\\nvalue = [0, 0, 0, 9, 3, 0]'),\n",
       " Text(0.45417515274949083, 0.40625, 'gini = 0.0\\nsamples = 2\\nvalue = [0, 0, 0, 0, 3, 0]'),\n",
       " Text(0.47046843177189407, 0.40625, 'gini = 0.0\\nsamples = 7\\nvalue = [0, 0, 0, 9, 0, 0]'),\n",
       " Text(0.49490835030549896, 0.65625, 'X[3] <= 1.453\\ngini = 0.691\\nsamples = 132\\nvalue = [0, 47, 0, 87, 50, 18]'),\n",
       " Text(0.48676171079429736, 0.59375, 'gini = 0.0\\nsamples = 33\\nvalue = [0, 0, 0, 0, 50, 0]'),\n",
       " Text(0.5030549898167006, 0.59375, 'X[3] <= 2.417\\ngini = 0.563\\nsamples = 99\\nvalue = [0, 47, 0, 87, 0, 18]'),\n",
       " Text(0.49490835030549896, 0.53125, 'gini = 0.0\\nsamples = 56\\nvalue = [0, 0, 0, 87, 0, 0]'),\n",
       " Text(0.5112016293279023, 0.53125, 'X[3] <= 3.886\\ngini = 0.4\\nsamples = 43\\nvalue = [0, 47, 0, 0, 0, 18]'),\n",
       " Text(0.49490835030549896, 0.46875, 'X[3] <= 3.4\\ngini = 0.188\\nsamples = 15\\nvalue = [0, 2, 0, 0, 0, 17]'),\n",
       " Text(0.48676171079429736, 0.40625, 'gini = 0.0\\nsamples = 9\\nvalue = [0, 0, 0, 0, 0, 11]'),\n",
       " Text(0.5030549898167006, 0.40625, 'X[1] <= 0.948\\ngini = 0.375\\nsamples = 6\\nvalue = [0, 2, 0, 0, 0, 6]'),\n",
       " Text(0.49490835030549896, 0.34375, 'X[1] <= 0.463\\ngini = 0.245\\nsamples = 5\\nvalue = [0, 1, 0, 0, 0, 6]'),\n",
       " Text(0.48676171079429736, 0.28125, 'gini = 0.0\\nsamples = 3\\nvalue = [0, 0, 0, 0, 0, 4]'),\n",
       " Text(0.5030549898167006, 0.28125, 'X[1] <= 0.624\\ngini = 0.444\\nsamples = 2\\nvalue = [0, 1, 0, 0, 0, 2]'),\n",
       " Text(0.49490835030549896, 0.21875, 'gini = 0.0\\nsamples = 1\\nvalue = [0, 1, 0, 0, 0, 0]'),\n",
       " Text(0.5112016293279023, 0.21875, 'gini = 0.0\\nsamples = 1\\nvalue = [0, 0, 0, 0, 0, 2]'),\n",
       " Text(0.5112016293279023, 0.34375, 'gini = 0.0\\nsamples = 1\\nvalue = [0, 1, 0, 0, 0, 0]'),\n",
       " Text(0.5274949083503055, 0.46875, 'X[1] <= 0.66\\ngini = 0.043\\nsamples = 28\\nvalue = [0, 45, 0, 0, 0, 1]'),\n",
       " Text(0.5193482688391039, 0.40625, 'gini = 0.0\\nsamples = 12\\nvalue = [0, 23, 0, 0, 0, 0]'),\n",
       " Text(0.5356415478615071, 0.40625, 'X[3] <= 4.235\\ngini = 0.083\\nsamples = 16\\nvalue = [0, 22, 0, 0, 0, 1]'),\n",
       " Text(0.5274949083503055, 0.34375, 'X[3] <= 4.07\\ngini = 0.444\\nsamples = 2\\nvalue = [0, 2, 0, 0, 0, 1]'),\n",
       " Text(0.5193482688391039, 0.28125, 'gini = 0.0\\nsamples = 1\\nvalue = [0, 2, 0, 0, 0, 0]'),\n",
       " Text(0.5356415478615071, 0.28125, 'gini = 0.0\\nsamples = 1\\nvalue = [0, 0, 0, 0, 0, 1]'),\n",
       " Text(0.5437881873727087, 0.34375, 'gini = 0.0\\nsamples = 14\\nvalue = [0, 20, 0, 0, 0, 0]'),\n",
       " Text(0.8229378818737271, 0.90625, 'X[1] <= 1.882\\ngini = 0.663\\nsamples = 2558\\nvalue = [95, 37, 1898, 1117, 720, 136]'),\n",
       " Text(0.7110488798370672, 0.84375, 'X[2] <= 2.199\\ngini = 0.592\\nsamples = 2077\\nvalue = [95, 15, 1892, 622, 564, 58]'),\n",
       " Text(0.615071283095723, 0.78125, 'X[3] <= 0.572\\ngini = 0.555\\nsamples = 1617\\nvalue = [95, 7, 1571, 383, 446, 18]'),\n",
       " Text(0.5804480651731161, 0.71875, 'X[2] <= 0.281\\ngini = 0.108\\nsamples = 1060\\nvalue = [95, 0, 1571, 0, 0, 0]'),\n",
       " Text(0.560081466395112, 0.65625, 'X[1] <= -1.208\\ngini = 0.158\\nsamples = 533\\nvalue = [74, 0, 779, 0, 0, 0]'),\n",
       " Text(0.5437881873727087, 0.59375, 'X[3] <= -0.319\\ngini = 0.48\\nsamples = 8\\nvalue = [6, 0, 9, 0, 0, 0]'),\n",
       " Text(0.5356415478615071, 0.53125, 'gini = 0.0\\nsamples = 3\\nvalue = [6, 0, 0, 0, 0, 0]'),\n",
       " Text(0.5519348268839104, 0.53125, 'gini = 0.0\\nsamples = 5\\nvalue = [0, 0, 9, 0, 0, 0]'),\n",
       " Text(0.5763747454175153, 0.59375, 'X[3] <= -0.328\\ngini = 0.149\\nsamples = 525\\nvalue = [68, 0, 770, 0, 0, 0]'),\n",
       " Text(0.5682281059063137, 0.53125, 'X[2] <= -0.103\\ngini = 0.269\\nsamples = 48\\nvalue = [68, 0, 13, 0, 0, 0]'),\n",
       " Text(0.560081466395112, 0.46875, 'X[1] <= 0.624\\ngini = 0.335\\nsamples = 39\\nvalue = [48, 0, 13, 0, 0, 0]'),\n",
       " Text(0.5519348268839104, 0.40625, 'gini = 0.0\\nsamples = 29\\nvalue = [48, 0, 0, 0, 0, 0]'),\n",
       " Text(0.5682281059063137, 0.40625, 'gini = 0.0\\nsamples = 10\\nvalue = [0, 0, 13, 0, 0, 0]'),\n",
       " Text(0.5763747454175153, 0.46875, 'gini = 0.0\\nsamples = 9\\nvalue = [20, 0, 0, 0, 0, 0]'),\n",
       " Text(0.5845213849287169, 0.53125, 'gini = 0.0\\nsamples = 477\\nvalue = [0, 0, 757, 0, 0, 0]'),\n",
       " Text(0.6008146639511202, 0.65625, 'X[3] <= -0.328\\ngini = 0.05\\nsamples = 527\\nvalue = [21, 0, 792, 0, 0, 0]'),\n",
       " Text(0.5926680244399185, 0.59375, 'gini = 0.0\\nsamples = 17\\nvalue = [21, 0, 0, 0, 0, 0]'),\n",
       " Text(0.6089613034623218, 0.59375, 'gini = 0.0\\nsamples = 510\\nvalue = [0, 0, 792, 0, 0, 0]'),\n",
       " Text(0.6496945010183299, 0.71875, 'X[1] <= -0.13\\ngini = 0.526\\nsamples = 557\\nvalue = [0, 7, 0, 383, 446, 18]'),\n",
       " Text(0.6334012219959266, 0.65625, 'X[3] <= 1.481\\ngini = 0.481\\nsamples = 321\\nvalue = [0, 0, 0, 171, 311, 11]'),\n",
       " Text(0.6252545824847251, 0.59375, 'gini = 0.0\\nsamples = 202\\nvalue = [0, 0, 0, 0, 311, 0]'),\n",
       " Text(0.6415478615071283, 0.59375, 'X[3] <= 2.436\\ngini = 0.114\\nsamples = 119\\nvalue = [0, 0, 0, 171, 0, 11]'),\n",
       " Text(0.6334012219959266, 0.53125, 'gini = 0.0\\nsamples = 112\\nvalue = [0, 0, 0, 171, 0, 0]'),\n",
       " Text(0.6496945010183299, 0.53125, 'gini = 0.0\\nsamples = 7\\nvalue = [0, 0, 0, 0, 0, 11]'),\n",
       " Text(0.6659877800407332, 0.65625, 'X[3] <= 1.481\\ngini = 0.515\\nsamples = 236\\nvalue = [0, 7, 0, 212, 135, 7]'),\n",
       " Text(0.6578411405295316, 0.59375, 'gini = 0.0\\nsamples = 87\\nvalue = [0, 0, 0, 0, 135, 0]'),\n",
       " Text(0.6741344195519349, 0.59375, 'X[3] <= 2.463\\ngini = 0.118\\nsamples = 149\\nvalue = [0, 7, 0, 212, 0, 7]'),\n",
       " Text(0.6659877800407332, 0.53125, 'gini = 0.0\\nsamples = 139\\nvalue = [0, 0, 0, 212, 0, 0]'),\n",
       " Text(0.6822810590631364, 0.53125, 'X[3] <= 4.281\\ngini = 0.5\\nsamples = 10\\nvalue = [0, 7, 0, 0, 0, 7]'),\n",
       " Text(0.6741344195519349, 0.46875, 'gini = 0.0\\nsamples = 6\\nvalue = [0, 0, 0, 0, 0, 7]'),\n",
       " Text(0.6904276985743381, 0.46875, 'gini = 0.0\\nsamples = 4\\nvalue = [0, 7, 0, 0, 0, 0]'),\n",
       " Text(0.8070264765784114, 0.78125, 'X[1] <= 0.05\\ngini = 0.667\\nsamples = 460\\nvalue = [0, 8, 321, 239, 118, 40]'),\n",
       " Text(0.7769857433808554, 0.71875, 'X[0] <= 1.352\\ngini = 0.66\\nsamples = 433\\nvalue = [0, 8, 321, 193, 113, 40]'),\n",
       " Text(0.7413441955193483, 0.65625, 'X[3] <= 0.572\\ngini = 0.31\\nsamples = 250\\nvalue = [0, 0, 316, 12, 58, 1]'),\n",
       " Text(0.7331975560081466, 0.59375, 'gini = 0.0\\nsamples = 203\\nvalue = [0, 0, 316, 0, 0, 0]'),\n",
       " Text(0.7494908350305499, 0.59375, 'X[2] <= 2.967\\ngini = 0.304\\nsamples = 47\\nvalue = [0, 0, 0, 12, 58, 1]'),\n",
       " Text(0.7270875763747454, 0.53125, 'X[2] <= 2.391\\ngini = 0.54\\nsamples = 16\\nvalue = [0, 0, 0, 9, 11, 1]'),\n",
       " Text(0.7067209775967414, 0.46875, 'X[1] <= -1.01\\ngini = 0.512\\nsamples = 8\\nvalue = [0, 0, 0, 3, 7, 1]'),\n",
       " Text(0.6904276985743381, 0.40625, 'X[3] <= 1.233\\ngini = 0.375\\nsamples = 3\\nvalue = [0, 0, 0, 3, 1, 0]'),\n",
       " Text(0.6822810590631364, 0.34375, 'gini = 0.0\\nsamples = 1\\nvalue = [0, 0, 0, 0, 1, 0]'),\n",
       " Text(0.6985743380855397, 0.34375, 'gini = 0.0\\nsamples = 2\\nvalue = [0, 0, 0, 3, 0, 0]'),\n",
       " Text(0.7230142566191446, 0.40625, 'X[3] <= 1.774\\ngini = 0.245\\nsamples = 5\\nvalue = [0, 0, 0, 0, 6, 1]'),\n",
       " Text(0.714867617107943, 0.34375, 'gini = 0.0\\nsamples = 4\\nvalue = [0, 0, 0, 0, 6, 0]'),\n",
       " Text(0.7311608961303462, 0.34375, 'gini = 0.0\\nsamples = 1\\nvalue = [0, 0, 0, 0, 0, 1]'),\n",
       " Text(0.7474541751527495, 0.46875, 'X[3] <= 1.435\\ngini = 0.48\\nsamples = 8\\nvalue = [0, 0, 0, 6, 4, 0]'),\n",
       " Text(0.7393075356415478, 0.40625, 'gini = 0.0\\nsamples = 3\\nvalue = [0, 0, 0, 0, 4, 0]'),\n",
       " Text(0.7556008146639511, 0.40625, 'gini = 0.0\\nsamples = 5\\nvalue = [0, 0, 0, 6, 0, 0]'),\n",
       " Text(0.7718940936863544, 0.53125, 'X[3] <= 1.517\\ngini = 0.113\\nsamples = 31\\nvalue = [0, 0, 0, 3, 47, 0]'),\n",
       " Text(0.7637474541751528, 0.46875, 'gini = 0.0\\nsamples = 29\\nvalue = [0, 0, 0, 0, 47, 0]'),\n",
       " Text(0.780040733197556, 0.46875, 'gini = 0.0\\nsamples = 2\\nvalue = [0, 0, 0, 3, 0, 0]'),\n",
       " Text(0.8126272912423625, 0.65625, 'X[3] <= 1.49\\ngini = 0.549\\nsamples = 183\\nvalue = [0, 8, 5, 181, 55, 39]'),\n",
       " Text(0.7963340122199593, 0.59375, 'X[3] <= 0.572\\ngini = 0.153\\nsamples = 35\\nvalue = [0, 0, 5, 0, 55, 0]'),\n",
       " Text(0.7881873727087576, 0.53125, 'gini = 0.0\\nsamples = 2\\nvalue = [0, 0, 5, 0, 0, 0]'),\n",
       " Text(0.8044806517311609, 0.53125, 'gini = 0.0\\nsamples = 33\\nvalue = [0, 0, 0, 0, 55, 0]'),\n",
       " Text(0.8289205702647657, 0.59375, 'X[3] <= 2.481\\ngini = 0.339\\nsamples = 148\\nvalue = [0, 8, 0, 181, 0, 39]'),\n",
       " Text(0.8207739307535642, 0.53125, 'gini = 0.0\\nsamples = 114\\nvalue = [0, 0, 0, 181, 0, 0]'),\n",
       " Text(0.8370672097759674, 0.53125, 'X[3] <= 4.318\\ngini = 0.282\\nsamples = 34\\nvalue = [0, 8, 0, 0, 0, 39]'),\n",
       " Text(0.8289205702647657, 0.46875, 'gini = 0.0\\nsamples = 28\\nvalue = [0, 0, 0, 0, 0, 39]'),\n",
       " Text(0.845213849287169, 0.46875, 'gini = 0.0\\nsamples = 6\\nvalue = [0, 8, 0, 0, 0, 0]'),\n",
       " Text(0.8370672097759674, 0.71875, 'X[3] <= 1.481\\ngini = 0.177\\nsamples = 27\\nvalue = [0, 0, 0, 46, 5, 0]'),\n",
       " Text(0.8289205702647657, 0.65625, 'gini = 0.0\\nsamples = 2\\nvalue = [0, 0, 0, 0, 5, 0]'),\n",
       " Text(0.845213849287169, 0.65625, 'gini = 0.0\\nsamples = 25\\nvalue = [0, 0, 0, 46, 0, 0]'),\n",
       " Text(0.9348268839103869, 0.84375, 'X[3] <= 1.398\\ngini = 0.518\\nsamples = 481\\nvalue = [0, 22, 6, 495, 156, 78]'),\n",
       " Text(0.9022403258655805, 0.78125, 'X[1] <= 4.109\\ngini = 0.506\\nsamples = 161\\nvalue = [0, 0, 6, 95, 146, 1]'),\n",
       " Text(0.8859470468431772, 0.71875, 'X[3] <= 0.535\\ngini = 0.076\\nsamples = 100\\nvalue = [0, 0, 6, 0, 146, 0]'),\n",
       " Text(0.8778004073319755, 0.65625, 'X[3] <= 0.517\\ngini = 0.191\\nsamples = 41\\nvalue = [0, 0, 6, 0, 50, 0]'),\n",
       " Text(0.8615071283095723, 0.59375, 'X[2] <= -0.295\\ngini = 0.168\\nsamples = 39\\nvalue = [0, 0, 5, 0, 49, 0]'),\n",
       " Text(0.8533604887983707, 0.53125, 'gini = 0.0\\nsamples = 21\\nvalue = [0, 0, 0, 0, 31, 0]'),\n",
       " Text(0.869653767820774, 0.53125, 'X[1] <= 2.277\\ngini = 0.34\\nsamples = 18\\nvalue = [0, 0, 5, 0, 18, 0]'),\n",
       " Text(0.8615071283095723, 0.46875, 'gini = 0.0\\nsamples = 4\\nvalue = [0, 0, 5, 0, 0, 0]'),\n",
       " Text(0.8778004073319755, 0.46875, 'gini = 0.0\\nsamples = 14\\nvalue = [0, 0, 0, 0, 18, 0]'),\n",
       " Text(0.8940936863543788, 0.59375, 'X[1] <= 2.582\\ngini = 0.5\\nsamples = 2\\nvalue = [0, 0, 1, 0, 1, 0]'),\n",
       " Text(0.8859470468431772, 0.53125, 'gini = 0.0\\nsamples = 1\\nvalue = [0, 0, 1, 0, 0, 0]'),\n",
       " Text(0.9022403258655805, 0.53125, 'gini = 0.0\\nsamples = 1\\nvalue = [0, 0, 0, 0, 1, 0]'),\n",
       " Text(0.8940936863543788, 0.65625, 'gini = 0.0\\nsamples = 59\\nvalue = [0, 0, 0, 0, 96, 0]'),\n",
       " Text(0.9185336048879837, 0.71875, 'X[1] <= 5.941\\ngini = 0.021\\nsamples = 61\\nvalue = [0, 0, 0, 95, 0, 1]'),\n",
       " Text(0.9103869653767821, 0.65625, 'gini = 0.0\\nsamples = 60\\nvalue = [0, 0, 0, 95, 0, 0]'),\n",
       " Text(0.9266802443991853, 0.65625, 'gini = 0.0\\nsamples = 1\\nvalue = [0, 0, 0, 0, 0, 1]'),\n",
       " Text(0.9674134419551935, 0.78125, 'X[3] <= 2.417\\ngini = 0.357\\nsamples = 320\\nvalue = [0, 22, 0, 400, 10, 77]'),\n",
       " Text(0.9511201629327902, 0.71875, 'X[1] <= 5.941\\ngini = 0.154\\nsamples = 273\\nvalue = [0, 0, 0, 400, 10, 26]'),\n",
       " Text(0.9429735234215886, 0.65625, 'X[0] <= 1.352\\ngini = 0.048\\nsamples = 255\\nvalue = [0, 0, 0, 400, 10, 0]'),\n",
       " Text(0.9266802443991853, 0.59375, 'X[3] <= 1.49\\ngini = 0.068\\nsamples = 154\\nvalue = [0, 0, 0, 248, 9, 0]'),\n",
       " Text(0.9185336048879837, 0.53125, 'X[0] <= 0.721\\ngini = 0.476\\nsamples = 12\\nvalue = [0, 0, 0, 14, 9, 0]'),\n",
       " Text(0.9103869653767821, 0.46875, 'gini = 0.0\\nsamples = 3\\nvalue = [0, 0, 0, 0, 4, 0]'),\n",
       " Text(0.9266802443991853, 0.46875, 'X[3] <= 1.471\\ngini = 0.388\\nsamples = 9\\nvalue = [0, 0, 0, 14, 5, 0]'),\n",
       " Text(0.9185336048879837, 0.40625, 'X[2] <= -0.103\\ngini = 0.346\\nsamples = 8\\nvalue = [0, 0, 0, 14, 4, 0]'),\n",
       " Text(0.9103869653767821, 0.34375, 'X[3] <= 1.453\\ngini = 0.408\\nsamples = 6\\nvalue = [0, 0, 0, 10, 4, 0]'),\n",
       " Text(0.9022403258655805, 0.28125, 'X[3] <= 1.435\\ngini = 0.463\\nsamples = 5\\nvalue = [0, 0, 0, 7, 4, 0]'),\n",
       " Text(0.8859470468431772, 0.21875, 'X[2] <= -0.295\\ngini = 0.32\\nsamples = 3\\nvalue = [0, 0, 0, 4, 1, 0]'),\n",
       " Text(0.8778004073319755, 0.15625, 'gini = 0.0\\nsamples = 1\\nvalue = [0, 0, 0, 2, 0, 0]'),\n",
       " Text(0.8940936863543788, 0.15625, 'X[1] <= 4.307\\ngini = 0.444\\nsamples = 2\\nvalue = [0, 0, 0, 2, 1, 0]'),\n",
       " Text(0.8859470468431772, 0.09375, 'gini = 0.0\\nsamples = 1\\nvalue = [0, 0, 0, 0, 1, 0]'),\n",
       " Text(0.9022403258655805, 0.09375, 'gini = 0.0\\nsamples = 1\\nvalue = [0, 0, 0, 2, 0, 0]'),\n",
       " Text(0.9185336048879837, 0.21875, 'X[1] <= 3.947\\ngini = 0.5\\nsamples = 2\\nvalue = [0, 0, 0, 3, 3, 0]'),\n",
       " Text(0.9103869653767821, 0.15625, 'gini = 0.0\\nsamples = 1\\nvalue = [0, 0, 0, 0, 3, 0]'),\n",
       " Text(0.9266802443991853, 0.15625, 'gini = 0.0\\nsamples = 1\\nvalue = [0, 0, 0, 3, 0, 0]'),\n",
       " Text(0.9185336048879837, 0.28125, 'gini = 0.0\\nsamples = 1\\nvalue = [0, 0, 0, 3, 0, 0]'),\n",
       " Text(0.9266802443991853, 0.34375, 'gini = 0.0\\nsamples = 2\\nvalue = [0, 0, 0, 4, 0, 0]'),\n",
       " Text(0.9348268839103869, 0.40625, 'gini = 0.0\\nsamples = 1\\nvalue = [0, 0, 0, 0, 1, 0]'),\n",
       " Text(0.9348268839103869, 0.53125, 'gini = 0.0\\nsamples = 142\\nvalue = [0, 0, 0, 234, 0, 0]'),\n",
       " Text(0.9592668024439919, 0.59375, 'X[0] <= 1.983\\ngini = 0.013\\nsamples = 101\\nvalue = [0, 0, 0, 152, 1, 0]'),\n",
       " Text(0.9511201629327902, 0.53125, 'gini = 0.0\\nsamples = 77\\nvalue = [0, 0, 0, 116, 0, 0]'),\n",
       " Text(0.9674134419551935, 0.53125, 'X[2] <= 0.952\\ngini = 0.053\\nsamples = 24\\nvalue = [0, 0, 0, 36, 1, 0]'),\n",
       " Text(0.9592668024439919, 0.46875, 'gini = 0.0\\nsamples = 14\\nvalue = [0, 0, 0, 25, 0, 0]'),\n",
       " Text(0.9755600814663951, 0.46875, 'X[3] <= 1.49\\ngini = 0.153\\nsamples = 10\\nvalue = [0, 0, 0, 11, 1, 0]'),\n",
       " Text(0.9674134419551935, 0.40625, 'gini = 0.0\\nsamples = 1\\nvalue = [0, 0, 0, 0, 1, 0]'),\n",
       " Text(0.9837067209775967, 0.40625, 'gini = 0.0\\nsamples = 9\\nvalue = [0, 0, 0, 11, 0, 0]'),\n",
       " Text(0.9592668024439919, 0.65625, 'gini = 0.0\\nsamples = 18\\nvalue = [0, 0, 0, 0, 0, 26]'),\n",
       " Text(0.9837067209775967, 0.71875, 'X[3] <= 4.263\\ngini = 0.421\\nsamples = 47\\nvalue = [0, 22, 0, 0, 0, 51]'),\n",
       " Text(0.9755600814663951, 0.65625, 'gini = 0.0\\nsamples = 33\\nvalue = [0, 0, 0, 0, 0, 51]'),\n",
       " Text(0.9918533604887984, 0.65625, 'gini = 0.0\\nsamples = 14\\nvalue = [0, 22, 0, 0, 0, 0]')]"
      ]
     },
     "execution_count": 19,
     "metadata": {},
     "output_type": "execute_result"
    },
    {
     "data": {
      "image/png": "[encoded data removed]",
      "text/plain": [
       "<Figure size 1080x720 with 1 Axes>"
      ]
     },
     "metadata": {
      "needs_background": "light"
     },
     "output_type": "display_data"
    }
   ],
   "source": [
    "import matplotlib.pyplot as plt\n",
    "from sklearn.tree import plot_tree\n",
    "fig = plt.figure(figsize=(15, 10))\n",
    "plot_tree(rf_model.estimators_[0],\n",
    "          filled=True, impurity=True,\n",
    "          rounded=True)"
   ]
  },
  {
   "attachments": {},
   "cell_type": "markdown",
   "metadata": {},
   "source": [
    "Optimizing Model"
   ]
  },
  {
   "cell_type": "code",
   "execution_count": 20,
   "metadata": {},
   "outputs": [
    {
     "data": {
      "text/html": [
       "<div>\n",
       "<style scoped>\n",
       "    .dataframe tbody tr th:only-of-type {\n",
       "        vertical-align: middle;\n",
       "    }\n",
       "\n",
       "    .dataframe tbody tr th {\n",
       "        vertical-align: top;\n",
       "    }\n",
       "\n",
       "    .dataframe thead th {\n",
       "        text-align: right;\n",
       "    }\n",
       "</style>\n",
       "<table border=\"1\" class=\"dataframe\">\n",
       "  <thead>\n",
       "    <tr style=\"text-align: right;\">\n",
       "      <th></th>\n",
       "      <th>CO AQI Value</th>\n",
       "      <th>Ozone AQI Value</th>\n",
       "      <th>PM2.5 AQI Value</th>\n",
       "    </tr>\n",
       "  </thead>\n",
       "  <tbody>\n",
       "    <tr>\n",
       "      <th>0</th>\n",
       "      <td>1</td>\n",
       "      <td>36</td>\n",
       "      <td>51</td>\n",
       "    </tr>\n",
       "    <tr>\n",
       "      <th>1</th>\n",
       "      <td>1</td>\n",
       "      <td>5</td>\n",
       "      <td>41</td>\n",
       "    </tr>\n",
       "    <tr>\n",
       "      <th>2</th>\n",
       "      <td>1</td>\n",
       "      <td>39</td>\n",
       "      <td>66</td>\n",
       "    </tr>\n",
       "    <tr>\n",
       "      <th>3</th>\n",
       "      <td>1</td>\n",
       "      <td>34</td>\n",
       "      <td>20</td>\n",
       "    </tr>\n",
       "    <tr>\n",
       "      <th>4</th>\n",
       "      <td>0</td>\n",
       "      <td>22</td>\n",
       "      <td>6</td>\n",
       "    </tr>\n",
       "  </tbody>\n",
       "</table>\n",
       "</div>"
      ],
      "text/plain": [
       "   CO AQI Value  Ozone AQI Value  PM2.5 AQI Value\n",
       "0             1               36               51\n",
       "1             1                5               41\n",
       "2             1               39               66\n",
       "3             1               34               20\n",
       "4             0               22                6"
      ]
     },
     "execution_count": 20,
     "metadata": {},
     "output_type": "execute_result"
    }
   ],
   "source": [
    "dfcopy2 = df.copy()\n",
    "columns_to_remove = [\"AQI Value\", \"Country\", \"City\", \"AQI Category\", \"CO AQI Category\",\n",
    "                     \"Ozone AQI Category\", \"NO2 AQI Category\", \"NO2 AQI Value\", \"PM2.5 AQI Category\"]\n",
    "X = dfcopy.drop(columns=columns_to_remove)\n",
    "X.head()"
   ]
  },
  {
   "cell_type": "code",
   "execution_count": 21,
   "metadata": {},
   "outputs": [
    {
     "data": {
      "text/plain": [
       "0.9996590521650187"
      ]
     },
     "execution_count": 21,
     "metadata": {},
     "output_type": "execute_result"
    }
   ],
   "source": [
    "# Calculating the confusion matrix with removing NO2 AQI Value\n",
    "cm = confusion_matrix(y_test, predictions)\n",
    "cm_df = pd.DataFrame(\n",
    "    cm, index=[\"Actual Good\", \"Actual Moderate\", \"Actual Unhealthy For Sensitive Groups\",\"Actual Unhealthy\", \"Actual Very Unhealthy\", \"Actual Hazardous\"], columns=[\"Predicted Good\", \"Predicted Moderate\", \"Predicted Unhealthy For Sensitive Groups\", \"Predicted Unhealthy\", \"Predicted Very Unhealthy\", \"Predicted Hazardous\"]\n",
    ")\n",
    "\n",
    "# Calculating the accuracy score with removing NO2 AQI Value\n",
    "acc_score = accuracy_score(y_test, predictions)\n",
    "acc_score"
   ]
  },
  {
   "cell_type": "code",
   "execution_count": 22,
   "metadata": {},
   "outputs": [
    {
     "data": {
      "text/plain": [
       "[(0.07978466120214603, 'Ozone AQI Value'),\n",
       " (0.066161672164175, 'CO AQI Value'),\n",
       " (0.007290287026545319, 'PM2.5 AQI Value')]"
      ]
     },
     "execution_count": 22,
     "metadata": {},
     "output_type": "execute_result"
    }
   ],
   "source": [
    "# Random Forests in sklearn will automatically calculate feature importance\n",
    "importances = rf_model.feature_importances_\n",
    "# We can sort the features by their importance\n",
    "sorted(zip(rf_model.feature_importances_, X.columns), reverse=True)"
   ]
  },
  {
   "cell_type": "code",
   "execution_count": 23,
   "metadata": {},
   "outputs": [
    {
     "data": {
      "text/plain": [
       "['rf_model.pkl']"
      ]
     },
     "execution_count": 23,
     "metadata": {},
     "output_type": "execute_result"
    }
   ],
   "source": [
    "from joblib import dump\n",
    "dump(rf_model, 'rf_model.pkl') "
   ]
  },
  {
   "cell_type": "code",
   "execution_count": 24,
   "metadata": {},
   "outputs": [
    {
     "data": {
      "text/plain": [
       "0.9996590521650187"
      ]
     },
     "execution_count": 24,
     "metadata": {},
     "output_type": "execute_result"
    }
   ],
   "source": [
    "acc_score"
   ]
  }
 ],
 "metadata": {
  "file_extension": ".py",
  "kernelspec": {
   "display_name": "Python 3 (ipykernel)",
   "language": "python",
   "name": "python3"
  },
  "language_info": {
   "codemirror_mode": {
    "name": "ipython",
    "version": 3
   },
   "file_extension": ".py",
   "mimetype": "text/x-python",
   "name": "python",
   "nbconvert_exporter": "python",
   "pygments_lexer": "ipython3",
   "version": "3.9.12"
  },
  "mimetype": "text/x-python",
  "name": "python",
  "npconvert_exporter": "python",
  "pygments_lexer": "ipython3",
  "version": 3
 },
 "nbformat": 4,
 "nbformat_minor": 4
}
